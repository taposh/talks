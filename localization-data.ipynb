{
 "cells": [
  {
   "cell_type": "markdown",
   "metadata": {},
   "source": [
    "# Predicting User Activity using localization data"
   ]
  },
  {
   "cell_type": "markdown",
   "metadata": {},
   "source": [
    "This arithmetica practice is from the paper An Agent-based Approach to Care in Independent Living posted at UCI.\n",
    "http://citeseerx.ist.psu.edu/viewdoc/download;jsessionid=D4F68AC886F5F0470207D1ACB782BF7A?doi=10.1.1.301.3380&rep=rep1&type=pdf\n"
   ]
  },
  {
   "cell_type": "markdown",
   "metadata": {},
   "source": [
    "The paper introduces a fall detector based on a neural network and a multi-agent architecture for requesting emergency services. It presented a multi-agent system for the care of elderly people living at home on their own, with the aim to prolong their independence. The system is composed of seven groups of agents providing a reliable, robust and flexible monitoring by sensing the user in the environment, reconstructing the position and posture to create the physical awareness of the user in the environment, reacting to critical situations, calling for help in the case of an emergency, and issuing warnings if unusual behavior is detected. The system has been tested during several on-line demonstration. People used for recording of the data were wearing four tags (ankle left, ankle right, belt and chest). Each instance is a localization data for one of the tags. The tag can be identified by one of the attributes. The goal for this practice is to correctly predict the activity the user is performing.\n"
   ]
  },
  {
   "cell_type": "code",
   "execution_count": 15,
   "metadata": {
    "collapsed": false
   },
   "outputs": [],
   "source": [
    "import pandas as pd\n",
    "# Read Data from URL\n",
    "# NOTE: download file or get path from arithmetica \n",
    "train_url = \"http://arithmetica.io/media/data/....\"\n",
    "test_url = \"http://arithmetica.io/media/data/....\"\n",
    "soultion_url = \"http://arithmetica.io/media/data/....\"\n",
    "train=pd.read_csv(train_url)\n",
    "test = pd.read_csv(test_url)\n",
    "solution = pd.read_csv(soultion_url)"
   ]
  },
  {
   "cell_type": "code",
   "execution_count": 16,
   "metadata": {
    "collapsed": false
   },
   "outputs": [
    {
     "name": "stdout",
     "output_type": "stream",
     "text": [
      "(131887, 9)\n",
      "(32972, 8)\n",
      "(32972, 2)\n"
     ]
    }
   ],
   "source": [
    "print (train.shape)\n",
    "print (test.shape)\n",
    "print (solution.shape)"
   ]
  },
  {
   "cell_type": "code",
   "execution_count": 17,
   "metadata": {
    "collapsed": false
   },
   "outputs": [
    {
     "data": {
      "text/plain": [
       "ID             int64\n",
       "sequence      object\n",
       "tag           object\n",
       "timestamp    float64\n",
       "date          object\n",
       "xcord        float64\n",
       "ycord        float64\n",
       "zcord        float64\n",
       "activity      object\n",
       "dtype: object"
      ]
     },
     "execution_count": 17,
     "metadata": {},
     "output_type": "execute_result"
    }
   ],
   "source": [
    "train.dtypes"
   ]
  },
  {
   "cell_type": "code",
   "execution_count": 18,
   "metadata": {
    "collapsed": false
   },
   "outputs": [
    {
     "data": {
      "text/html": [
       "<div>\n",
       "<table border=\"1\" class=\"dataframe\">\n",
       "  <thead>\n",
       "    <tr style=\"text-align: right;\">\n",
       "      <th></th>\n",
       "      <th>ID</th>\n",
       "      <th>sequence</th>\n",
       "      <th>tag</th>\n",
       "      <th>timestamp</th>\n",
       "      <th>date</th>\n",
       "      <th>xcord</th>\n",
       "      <th>ycord</th>\n",
       "      <th>zcord</th>\n",
       "      <th>activity</th>\n",
       "    </tr>\n",
       "  </thead>\n",
       "  <tbody>\n",
       "    <tr>\n",
       "      <th>0</th>\n",
       "      <td>119546</td>\n",
       "      <td>D05</td>\n",
       "      <td>010-000-024-033</td>\n",
       "      <td>6.337902e+17</td>\n",
       "      <td>27.05.2009 12:29:36:757</td>\n",
       "      <td>3.462888</td>\n",
       "      <td>2.263080</td>\n",
       "      <td>0.370799</td>\n",
       "      <td>standing up from sitting on the ground</td>\n",
       "    </tr>\n",
       "    <tr>\n",
       "      <th>1</th>\n",
       "      <td>109888</td>\n",
       "      <td>D04</td>\n",
       "      <td>020-000-032-221</td>\n",
       "      <td>6.337902e+17</td>\n",
       "      <td>27.05.2009 12:21:44:050</td>\n",
       "      <td>1.878930</td>\n",
       "      <td>1.605515</td>\n",
       "      <td>0.694254</td>\n",
       "      <td>sitting</td>\n",
       "    </tr>\n",
       "    <tr>\n",
       "      <th>2</th>\n",
       "      <td>131809</td>\n",
       "      <td>E02</td>\n",
       "      <td>020-000-033-111</td>\n",
       "      <td>6.337901e+17</td>\n",
       "      <td>27.05.2009 11:16:01:287</td>\n",
       "      <td>4.808895</td>\n",
       "      <td>1.326455</td>\n",
       "      <td>0.311465</td>\n",
       "      <td>lying</td>\n",
       "    </tr>\n",
       "    <tr>\n",
       "      <th>3</th>\n",
       "      <td>93164</td>\n",
       "      <td>D01</td>\n",
       "      <td>020-000-033-111</td>\n",
       "      <td>6.337902e+17</td>\n",
       "      <td>27.05.2009 12:01:56:630</td>\n",
       "      <td>4.083691</td>\n",
       "      <td>1.330411</td>\n",
       "      <td>0.355516</td>\n",
       "      <td>standing up from lying</td>\n",
       "    </tr>\n",
       "    <tr>\n",
       "      <th>4</th>\n",
       "      <td>77810</td>\n",
       "      <td>C04</td>\n",
       "      <td>020-000-033-111</td>\n",
       "      <td>6.337903e+17</td>\n",
       "      <td>27.05.2009 15:45:15:980</td>\n",
       "      <td>3.733828</td>\n",
       "      <td>1.144829</td>\n",
       "      <td>0.578826</td>\n",
       "      <td>standing up from lying</td>\n",
       "    </tr>\n",
       "  </tbody>\n",
       "</table>\n",
       "</div>"
      ],
      "text/plain": [
       "       ID sequence              tag     timestamp                     date  \\\n",
       "0  119546      D05  010-000-024-033  6.337902e+17  27.05.2009 12:29:36:757   \n",
       "1  109888      D04  020-000-032-221  6.337902e+17  27.05.2009 12:21:44:050   \n",
       "2  131809      E02  020-000-033-111  6.337901e+17  27.05.2009 11:16:01:287   \n",
       "3   93164      D01  020-000-033-111  6.337902e+17  27.05.2009 12:01:56:630   \n",
       "4   77810      C04  020-000-033-111  6.337903e+17  27.05.2009 15:45:15:980   \n",
       "\n",
       "      xcord     ycord     zcord                                activity  \n",
       "0  3.462888  2.263080  0.370799  standing up from sitting on the ground  \n",
       "1  1.878930  1.605515  0.694254                                 sitting  \n",
       "2  4.808895  1.326455  0.311465                                   lying  \n",
       "3  4.083691  1.330411  0.355516                  standing up from lying  \n",
       "4  3.733828  1.144829  0.578826                  standing up from lying  "
      ]
     },
     "execution_count": 18,
     "metadata": {},
     "output_type": "execute_result"
    }
   ],
   "source": [
    "train.head()"
   ]
  },
  {
   "cell_type": "code",
   "execution_count": 19,
   "metadata": {
    "collapsed": false
   },
   "outputs": [
    {
     "data": {
      "text/html": [
       "<div>\n",
       "<table border=\"1\" class=\"dataframe\">\n",
       "  <thead>\n",
       "    <tr style=\"text-align: right;\">\n",
       "      <th></th>\n",
       "      <th>ID</th>\n",
       "      <th>sequence</th>\n",
       "      <th>tag</th>\n",
       "      <th>timestamp</th>\n",
       "      <th>date</th>\n",
       "      <th>xcord</th>\n",
       "      <th>ycord</th>\n",
       "      <th>zcord</th>\n",
       "    </tr>\n",
       "  </thead>\n",
       "  <tbody>\n",
       "    <tr>\n",
       "      <th>0</th>\n",
       "      <td>1</td>\n",
       "      <td>A01</td>\n",
       "      <td>020-000-033-111</td>\n",
       "      <td>6.337902e+17</td>\n",
       "      <td>27.05.2009 14:03:25:183</td>\n",
       "      <td>4.291954</td>\n",
       "      <td>1.781140</td>\n",
       "      <td>1.344495</td>\n",
       "    </tr>\n",
       "    <tr>\n",
       "      <th>1</th>\n",
       "      <td>5</td>\n",
       "      <td>A01</td>\n",
       "      <td>020-000-033-111</td>\n",
       "      <td>6.337902e+17</td>\n",
       "      <td>27.05.2009 14:03:25:290</td>\n",
       "      <td>4.364077</td>\n",
       "      <td>1.767691</td>\n",
       "      <td>1.299996</td>\n",
       "    </tr>\n",
       "    <tr>\n",
       "      <th>2</th>\n",
       "      <td>13</td>\n",
       "      <td>A01</td>\n",
       "      <td>010-000-024-033</td>\n",
       "      <td>6.337902e+17</td>\n",
       "      <td>27.05.2009 14:03:25:560</td>\n",
       "      <td>3.748375</td>\n",
       "      <td>2.073422</td>\n",
       "      <td>0.254482</td>\n",
       "    </tr>\n",
       "    <tr>\n",
       "      <th>3</th>\n",
       "      <td>15</td>\n",
       "      <td>A01</td>\n",
       "      <td>010-000-024-033</td>\n",
       "      <td>6.337902e+17</td>\n",
       "      <td>27.05.2009 14:03:25:670</td>\n",
       "      <td>3.820894</td>\n",
       "      <td>2.049378</td>\n",
       "      <td>0.055377</td>\n",
       "    </tr>\n",
       "    <tr>\n",
       "      <th>4</th>\n",
       "      <td>16</td>\n",
       "      <td>A01</td>\n",
       "      <td>010-000-030-096</td>\n",
       "      <td>6.337902e+17</td>\n",
       "      <td>27.05.2009 14:03:25:697</td>\n",
       "      <td>4.355477</td>\n",
       "      <td>1.990151</td>\n",
       "      <td>0.501698</td>\n",
       "    </tr>\n",
       "  </tbody>\n",
       "</table>\n",
       "</div>"
      ],
      "text/plain": [
       "   ID sequence              tag     timestamp                     date  \\\n",
       "0   1      A01  020-000-033-111  6.337902e+17  27.05.2009 14:03:25:183   \n",
       "1   5      A01  020-000-033-111  6.337902e+17  27.05.2009 14:03:25:290   \n",
       "2  13      A01  010-000-024-033  6.337902e+17  27.05.2009 14:03:25:560   \n",
       "3  15      A01  010-000-024-033  6.337902e+17  27.05.2009 14:03:25:670   \n",
       "4  16      A01  010-000-030-096  6.337902e+17  27.05.2009 14:03:25:697   \n",
       "\n",
       "      xcord     ycord     zcord  \n",
       "0  4.291954  1.781140  1.344495  \n",
       "1  4.364077  1.767691  1.299996  \n",
       "2  3.748375  2.073422  0.254482  \n",
       "3  3.820894  2.049378  0.055377  \n",
       "4  4.355477  1.990151  0.501698  "
      ]
     },
     "execution_count": 19,
     "metadata": {},
     "output_type": "execute_result"
    }
   ],
   "source": [
    "test.head()"
   ]
  },
  {
   "cell_type": "code",
   "execution_count": 20,
   "metadata": {
    "collapsed": false
   },
   "outputs": [
    {
     "data": {
      "text/html": [
       "<div>\n",
       "<table border=\"1\" class=\"dataframe\">\n",
       "  <thead>\n",
       "    <tr style=\"text-align: right;\">\n",
       "      <th></th>\n",
       "      <th>activity</th>\n",
       "      <th>count</th>\n",
       "    </tr>\n",
       "  </thead>\n",
       "  <tbody>\n",
       "    <tr>\n",
       "      <th>0</th>\n",
       "      <td>lying</td>\n",
       "      <td>43624</td>\n",
       "    </tr>\n",
       "    <tr>\n",
       "      <th>1</th>\n",
       "      <td>walking</td>\n",
       "      <td>26146</td>\n",
       "    </tr>\n",
       "    <tr>\n",
       "      <th>2</th>\n",
       "      <td>sitting</td>\n",
       "      <td>21780</td>\n",
       "    </tr>\n",
       "    <tr>\n",
       "      <th>3</th>\n",
       "      <td>standing up from lying</td>\n",
       "      <td>14642</td>\n",
       "    </tr>\n",
       "    <tr>\n",
       "      <th>4</th>\n",
       "      <td>sitting on the ground</td>\n",
       "      <td>9468</td>\n",
       "    </tr>\n",
       "    <tr>\n",
       "      <th>5</th>\n",
       "      <td>lying down</td>\n",
       "      <td>4942</td>\n",
       "    </tr>\n",
       "    <tr>\n",
       "      <th>6</th>\n",
       "      <td>on all fours</td>\n",
       "      <td>4138</td>\n",
       "    </tr>\n",
       "    <tr>\n",
       "      <th>7</th>\n",
       "      <td>falling</td>\n",
       "      <td>2372</td>\n",
       "    </tr>\n",
       "    <tr>\n",
       "      <th>8</th>\n",
       "      <td>standing up from sitting on the ground</td>\n",
       "      <td>2307</td>\n",
       "    </tr>\n",
       "    <tr>\n",
       "      <th>9</th>\n",
       "      <td>sitting down</td>\n",
       "      <td>1372</td>\n",
       "    </tr>\n",
       "    <tr>\n",
       "      <th>10</th>\n",
       "      <td>standing up from sitting</td>\n",
       "      <td>1096</td>\n",
       "    </tr>\n",
       "  </tbody>\n",
       "</table>\n",
       "</div>"
      ],
      "text/plain": [
       "                                  activity  count\n",
       "0                                    lying  43624\n",
       "1                                  walking  26146\n",
       "2                                  sitting  21780\n",
       "3                   standing up from lying  14642\n",
       "4                    sitting on the ground   9468\n",
       "5                               lying down   4942\n",
       "6                             on all fours   4138\n",
       "7                                  falling   2372\n",
       "8   standing up from sitting on the ground   2307\n",
       "9                             sitting down   1372\n",
       "10                standing up from sitting   1096"
      ]
     },
     "execution_count": 20,
     "metadata": {},
     "output_type": "execute_result"
    }
   ],
   "source": [
    "# generate 'activitydf' DF\n",
    "actdf = pd.DataFrame(train['activity'].value_counts().reset_index())\n",
    "actdf.columns = ['activity', 'count']\n",
    "actdf"
   ]
  },
  {
   "cell_type": "markdown",
   "metadata": {},
   "source": [
    "## Date Analysis\n",
    "Lets convert string to date, hour, minute, weekday and month of the year"
   ]
  },
  {
   "cell_type": "code",
   "execution_count": 21,
   "metadata": {
    "collapsed": false
   },
   "outputs": [],
   "source": [
    "import datetime\n",
    "from datetime import datetime\n",
    "import calendar\n",
    "\n",
    "train[\"onlydate\"] = train.date.apply(lambda x : x.split()[0])\n",
    "train[\"hour\"] = train.date.apply(lambda x : x.split()[1].split(\":\")[0])\n",
    "train[\"min\"] = train.date.apply(lambda x : x.split()[1].split(\":\")[1])\n",
    "\n",
    "train[\"weekday\"] = train.date.apply(lambda dateString : calendar.day_name[datetime.strptime(dateString,\"%d.%m.%Y %H:%M:%S:%f\").weekday()])\n",
    "train[\"month\"] = train.date.apply(lambda dateString : calendar.month_name[datetime.strptime(dateString,\"%d.%m.%Y %H:%M:%S:%f\").month])\n",
    "# drop non-necessary columns\n",
    "train  = train.drop([\"date\"],axis=1)"
   ]
  },
  {
   "cell_type": "code",
   "execution_count": 22,
   "metadata": {
    "collapsed": false
   },
   "outputs": [
    {
     "data": {
      "text/html": [
       "<div>\n",
       "<table border=\"1\" class=\"dataframe\">\n",
       "  <thead>\n",
       "    <tr style=\"text-align: right;\">\n",
       "      <th></th>\n",
       "      <th>ID</th>\n",
       "      <th>sequence</th>\n",
       "      <th>tag</th>\n",
       "      <th>timestamp</th>\n",
       "      <th>xcord</th>\n",
       "      <th>ycord</th>\n",
       "      <th>zcord</th>\n",
       "      <th>activity</th>\n",
       "      <th>onlydate</th>\n",
       "      <th>hour</th>\n",
       "      <th>min</th>\n",
       "      <th>weekday</th>\n",
       "      <th>month</th>\n",
       "    </tr>\n",
       "  </thead>\n",
       "  <tbody>\n",
       "    <tr>\n",
       "      <th>0</th>\n",
       "      <td>119546</td>\n",
       "      <td>D05</td>\n",
       "      <td>010-000-024-033</td>\n",
       "      <td>6.337902e+17</td>\n",
       "      <td>3.462888</td>\n",
       "      <td>2.263080</td>\n",
       "      <td>0.370799</td>\n",
       "      <td>standing up from sitting on the ground</td>\n",
       "      <td>27.05.2009</td>\n",
       "      <td>12</td>\n",
       "      <td>29</td>\n",
       "      <td>Wednesday</td>\n",
       "      <td>May</td>\n",
       "    </tr>\n",
       "    <tr>\n",
       "      <th>1</th>\n",
       "      <td>109888</td>\n",
       "      <td>D04</td>\n",
       "      <td>020-000-032-221</td>\n",
       "      <td>6.337902e+17</td>\n",
       "      <td>1.878930</td>\n",
       "      <td>1.605515</td>\n",
       "      <td>0.694254</td>\n",
       "      <td>sitting</td>\n",
       "      <td>27.05.2009</td>\n",
       "      <td>12</td>\n",
       "      <td>21</td>\n",
       "      <td>Wednesday</td>\n",
       "      <td>May</td>\n",
       "    </tr>\n",
       "    <tr>\n",
       "      <th>2</th>\n",
       "      <td>131809</td>\n",
       "      <td>E02</td>\n",
       "      <td>020-000-033-111</td>\n",
       "      <td>6.337901e+17</td>\n",
       "      <td>4.808895</td>\n",
       "      <td>1.326455</td>\n",
       "      <td>0.311465</td>\n",
       "      <td>lying</td>\n",
       "      <td>27.05.2009</td>\n",
       "      <td>11</td>\n",
       "      <td>16</td>\n",
       "      <td>Wednesday</td>\n",
       "      <td>May</td>\n",
       "    </tr>\n",
       "    <tr>\n",
       "      <th>3</th>\n",
       "      <td>93164</td>\n",
       "      <td>D01</td>\n",
       "      <td>020-000-033-111</td>\n",
       "      <td>6.337902e+17</td>\n",
       "      <td>4.083691</td>\n",
       "      <td>1.330411</td>\n",
       "      <td>0.355516</td>\n",
       "      <td>standing up from lying</td>\n",
       "      <td>27.05.2009</td>\n",
       "      <td>12</td>\n",
       "      <td>01</td>\n",
       "      <td>Wednesday</td>\n",
       "      <td>May</td>\n",
       "    </tr>\n",
       "    <tr>\n",
       "      <th>4</th>\n",
       "      <td>77810</td>\n",
       "      <td>C04</td>\n",
       "      <td>020-000-033-111</td>\n",
       "      <td>6.337903e+17</td>\n",
       "      <td>3.733828</td>\n",
       "      <td>1.144829</td>\n",
       "      <td>0.578826</td>\n",
       "      <td>standing up from lying</td>\n",
       "      <td>27.05.2009</td>\n",
       "      <td>15</td>\n",
       "      <td>45</td>\n",
       "      <td>Wednesday</td>\n",
       "      <td>May</td>\n",
       "    </tr>\n",
       "  </tbody>\n",
       "</table>\n",
       "</div>"
      ],
      "text/plain": [
       "       ID sequence              tag     timestamp     xcord     ycord  \\\n",
       "0  119546      D05  010-000-024-033  6.337902e+17  3.462888  2.263080   \n",
       "1  109888      D04  020-000-032-221  6.337902e+17  1.878930  1.605515   \n",
       "2  131809      E02  020-000-033-111  6.337901e+17  4.808895  1.326455   \n",
       "3   93164      D01  020-000-033-111  6.337902e+17  4.083691  1.330411   \n",
       "4   77810      C04  020-000-033-111  6.337903e+17  3.733828  1.144829   \n",
       "\n",
       "      zcord                                activity    onlydate hour min  \\\n",
       "0  0.370799  standing up from sitting on the ground  27.05.2009   12  29   \n",
       "1  0.694254                                 sitting  27.05.2009   12  21   \n",
       "2  0.311465                                   lying  27.05.2009   11  16   \n",
       "3  0.355516                  standing up from lying  27.05.2009   12  01   \n",
       "4  0.578826                  standing up from lying  27.05.2009   15  45   \n",
       "\n",
       "     weekday month  \n",
       "0  Wednesday   May  \n",
       "1  Wednesday   May  \n",
       "2  Wednesday   May  \n",
       "3  Wednesday   May  \n",
       "4  Wednesday   May  "
      ]
     },
     "execution_count": 22,
     "metadata": {},
     "output_type": "execute_result"
    }
   ],
   "source": [
    "train.head()"
   ]
  },
  {
   "cell_type": "markdown",
   "metadata": {},
   "source": [
    "## Output Activity"
   ]
  },
  {
   "cell_type": "code",
   "execution_count": 10,
   "metadata": {
    "collapsed": false
   },
   "outputs": [
    {
     "data": {
      "image/png": "[encoded data removed]",
      "text/plain": [
       "<matplotlib.figure.Figure at 0x11154cef0>"
      ]
     },
     "metadata": {},
     "output_type": "display_data"
    }
   ],
   "source": [
    "import matplotlib.pyplot as plt\n",
    "numbers_train = range(0,len(actdf))\n",
    "plt.bar(numbers_train,actdf['count'])\n",
    "plt.title(\"The different activities in train \")\n",
    "plt.xlabel(actdf['activity'])\n",
    "plt.show()\n",
    "#print(\"The different activities in train and test\")\n"
   ]
  },
  {
   "cell_type": "markdown",
   "metadata": {
    "collapsed": false
   },
   "source": [
    "## Check sequence "
   ]
  },
  {
   "cell_type": "code",
   "execution_count": 11,
   "metadata": {
    "collapsed": false
   },
   "outputs": [],
   "source": [
    "# generate 'seqdf' DF\n",
    "testseqdf = pd.DataFrame(test['sequence'].value_counts().reset_index())\n",
    "testseqdf.columns = ['seq', 'testcount']\n",
    "numberstest = range(0,len(testseqdf))\n",
    "\n",
    "seqdf = pd.DataFrame(train['sequence'].value_counts().reset_index())\n",
    "seqdf.columns = ['seq', 'traincount']\n",
    "numbers = range(0,len(seqdf))\n",
    "\n",
    "testseqdf = testseqdf.sort_values(by ='seq')\n",
    "seqdf = seqdf.sort_values(by ='seq')\n",
    "sequence = pd.merge(testseqdf, seqdf, on=\"seq\",how='inner')\n"
   ]
  },
  {
   "cell_type": "code",
   "execution_count": 12,
   "metadata": {
    "collapsed": false
   },
   "outputs": [
    {
     "data": {
      "text/html": [
       "<div>\n",
       "<table border=\"1\" class=\"dataframe\">\n",
       "  <thead>\n",
       "    <tr style=\"text-align: right;\">\n",
       "      <th></th>\n",
       "      <th>seq</th>\n",
       "      <th>testcount</th>\n",
       "      <th>traincount</th>\n",
       "    </tr>\n",
       "  </thead>\n",
       "  <tbody>\n",
       "    <tr>\n",
       "      <th>0</th>\n",
       "      <td>A01</td>\n",
       "      <td>1179</td>\n",
       "      <td>4650</td>\n",
       "    </tr>\n",
       "    <tr>\n",
       "      <th>1</th>\n",
       "      <td>A02</td>\n",
       "      <td>1123</td>\n",
       "      <td>4568</td>\n",
       "    </tr>\n",
       "    <tr>\n",
       "      <th>2</th>\n",
       "      <td>A03</td>\n",
       "      <td>1079</td>\n",
       "      <td>4247</td>\n",
       "    </tr>\n",
       "    <tr>\n",
       "      <th>3</th>\n",
       "      <td>A04</td>\n",
       "      <td>1031</td>\n",
       "      <td>4371</td>\n",
       "    </tr>\n",
       "    <tr>\n",
       "      <th>4</th>\n",
       "      <td>A05</td>\n",
       "      <td>1032</td>\n",
       "      <td>4192</td>\n",
       "    </tr>\n",
       "  </tbody>\n",
       "</table>\n",
       "</div>"
      ],
      "text/plain": [
       "   seq  testcount  traincount\n",
       "0  A01       1179        4650\n",
       "1  A02       1123        4568\n",
       "2  A03       1079        4247\n",
       "3  A04       1031        4371\n",
       "4  A05       1032        4192"
      ]
     },
     "execution_count": 12,
     "metadata": {},
     "output_type": "execute_result"
    }
   ],
   "source": [
    "sequence.head()"
   ]
  },
  {
   "cell_type": "code",
   "execution_count": 13,
   "metadata": {
    "collapsed": false
   },
   "outputs": [
    {
     "data": {
      "image/png": "[encoded data removed]",
      "text/plain": [
       "<matplotlib.figure.Figure at 0x11154c1d0>"
      ]
     },
     "metadata": {},
     "output_type": "display_data"
    }
   ],
   "source": [
    "import matplotlib.pyplot as plt\n",
    "mylist1 = range(0,len(sequence))\n",
    "mylist2 = sequence['testcount']\n",
    "mylist3 = sequence['traincount']\n",
    "#plt.bar ( position, list, ....)\n",
    "plt.bar(mylist1,mylist3,label='test',color=\"red\")\n",
    "plt.bar(mylist1,mylist2,label='train',color=\"green\")\n",
    "plt.legend()\n",
    "plt.show()\n"
   ]
  },
  {
   "cell_type": "code",
   "execution_count": null,
   "metadata": {
    "collapsed": false
   },
   "outputs": [],
   "source": [
    "train.dtypes"
   ]
  },
  {
   "cell_type": "markdown",
   "metadata": {},
   "source": [
    "## X-Y-Z Co-ordinates"
   ]
  },
  {
   "cell_type": "code",
   "execution_count": 14,
   "metadata": {
    "collapsed": false
   },
   "outputs": [],
   "source": [
    "train[['xcord','ycord','zcord']] = train[['xcord','ycord','zcord']].apply(pd.to_numeric)"
   ]
  },
  {
   "cell_type": "code",
   "execution_count": 15,
   "metadata": {
    "collapsed": false
   },
   "outputs": [
    {
     "data": {
      "image/png": "[encoded data removed]",
      "text/plain": [
       "<matplotlib.figure.Figure at 0x1149b56a0>"
      ]
     },
     "metadata": {},
     "output_type": "display_data"
    }
   ],
   "source": [
    "from mpl_toolkits.mplot3d import Axes3D\n",
    "import matplotlib.pyplot as plt\n",
    "import numpy as np\n",
    "fig = plt.figure()\n",
    "ax = fig.gca(projection='3d')\n",
    "#ax = fig.add_subplot(111, projection='3d')\n",
    "\n",
    "for row in range(0, 100):\n",
    "    ax.scatter(train.iloc[row][\"xcord\"], train.iloc[row][\"ycord\"], train.iloc[row][\"zcord\"])\n",
    "    \n",
    "ax.set_xlabel('X ')\n",
    "ax.set_ylabel('Y ')\n",
    "ax.set_zlabel('Z ')\n",
    "\n",
    "plt.show()"
   ]
  },
  {
   "cell_type": "code",
   "execution_count": null,
   "metadata": {
    "collapsed": false
   },
   "outputs": [],
   "source": [
    "train.head()"
   ]
  },
  {
   "cell_type": "markdown",
   "metadata": {},
   "source": [
    "https://www.kaggle.com/viveksrinivasan/eda-ensemble-model-top-10-percentile"
   ]
  },
  {
   "cell_type": "code",
   "execution_count": 16,
   "metadata": {
    "collapsed": false
   },
   "outputs": [],
   "source": []
  },
  {
   "cell_type": "code",
   "execution_count": 18,
   "metadata": {
    "collapsed": false
   },
   "outputs": [
    {
     "data": {
      "image/png": "[encoded data removed]",
      "text/plain": [
       "<matplotlib.figure.Figure at 0x116cdef98>"
      ]
     },
     "metadata": {},
     "output_type": "display_data"
    }
   ],
   "source": [
    "#import missingno as msno\n",
    "import seaborn as sn\n",
    "corrMatt = train[[\"sequence\",\"tag\",\"xcord\",\"ycord\",\"zcord\",\"activity\"]].corr()\n",
    "\n",
    "#corrMatt = train[[\"sequence\",\"tag\",\"xcord\",\"ycord\",\"zcord\",\"onlydate\",\"hour\",\"min\",\"activity\"]].corr()\n",
    "mask = np.array(corrMatt)\n",
    "mask[np.tril_indices_from(mask)] = False\n",
    "fig,ax= plt.subplots()\n",
    "fig.set_size_inches(20,10)\n",
    "sn.heatmap(corrMatt, mask=mask,vmax=.8, square=True,annot=True)\n",
    "plt.show()"
   ]
  },
  {
   "cell_type": "markdown",
   "metadata": {
    "collapsed": true
   },
   "source": [
    "Using Plotly to visualizae"
   ]
  },
  {
   "cell_type": "code",
   "execution_count": 19,
   "metadata": {
    "collapsed": false,
    "scrolled": true
   },
   "outputs": [
    {
     "data": {
      "text/html": [
       "<iframe id=\"igraph\" scrolling=\"no\" style=\"border:none;\" seamless=\"seamless\" src=\"https://plot.ly/~taposhdr/21.embed\" height=\"525px\" width=\"100%\"></iframe>"
      ],
      "text/plain": [
       "<plotly.tools.PlotlyDisplay object>"
      ]
     },
     "execution_count": 19,
     "metadata": {},
     "output_type": "execute_result"
    }
   ],
   "source": [
    "import plotly as py\n",
    "py.tools.set_credentials_file(username='<>', api_key='<>')\n",
    "\n",
    "#import plotly.plotly as py\n",
    "import plotly.graph_objs as go\n",
    "\n",
    "import numpy as np\n",
    "\n",
    "#x, y, z = np.random.multivariate_normal(np.array([0,0,0]), np.eye(3), 200).transpose()\n",
    "train = train[0:200]\n",
    "trace1 = go.Scatter3d(x=train[\"xcord\"],y=train[\"ycord\"],z=train[\"zcord\"],mode='markers')\n",
    "\n",
    "data = [trace1]\n",
    "layout = go.Layout(\n",
    "    margin=dict(\n",
    "        l=0,\n",
    "        r=0,\n",
    "        b=0,\n",
    "        t=0\n",
    "    )\n",
    ")\n",
    "fig = go.Figure(data=data, layout=layout)\n",
    "py.plotly.iplot(fig, filename='simple-3d-scatter')"
   ]
  },
  {
   "cell_type": "markdown",
   "metadata": {},
   "source": []
  },
  {
   "cell_type": "code",
   "execution_count": null,
   "metadata": {
    "collapsed": true
   },
   "outputs": [],
   "source": []
  }
 ],
 "metadata": {
  "anaconda-cloud": {},
  "hide_input": false,
  "kernelspec": {
   "display_name": "Python [conda root]",
   "language": "python",
   "name": "conda-root-py"
  },
  "language_info": {
   "codemirror_mode": {
    "name": "ipython",
    "version": 3
   },
   "file_extension": ".py",
   "mimetype": "text/x-python",
   "name": "python",
   "nbconvert_exporter": "python",
   "pygments_lexer": "ipython3",
   "version": "3.5.2"
  },
  "toc": {
   "colors": {
    "hover_highlight": "#DAA520",
    "running_highlight": "#FF0000",
    "selected_highlight": "#FFD700"
   },
   "moveMenuLeft": true,
   "nav_menu": {
    "height": "30px",
    "width": "252px"
   },
   "navigate_menu": true,
   "number_sections": true,
   "sideBar": true,
   "threshold": 4,
   "toc_cell": false,
   "toc_section_display": "block",
   "toc_window_display": false
  }
 },
 "nbformat": 4,
 "nbformat_minor": 1
}
